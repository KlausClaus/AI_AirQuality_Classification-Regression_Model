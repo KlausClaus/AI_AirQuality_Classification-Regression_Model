{
  "cells": [
    {
      "cell_type": "markdown",
      "metadata": {},
      "source": [
        "# **Script**"
      ]
    },
    {
      "cell_type": "markdown",
      "metadata": {
        "id": "LCRMyJBzmbgc"
      },
      "source": [
        "# Classification_Model"
      ]
    },
    {
      "cell_type": "markdown",
      "metadata": {
        "id": "__38hLlbaQs8"
      },
      "source": [
        "## Load Model and Data Processing\n"
      ]
    },
    {
      "cell_type": "code",
      "execution_count": 13,
      "metadata": {
        "colab": {
          "base_uri": "https://localhost:8080/",
          "height": 1000
        },
        "id": "nNbdn6qrBMaL",
        "outputId": "a7612b71-7014-41ab-94b1-1df656d71241"
      },
      "outputs": [
        {
          "name": "stderr",
          "output_type": "stream",
          "text": [
            "WARNING:absl:Compiled the loaded model, but the compiled metrics have yet to be built. `model.compile_metrics` will be empty until you train or evaluate the model.\n"
          ]
        },
        {
          "name": "stdout",
          "output_type": "stream",
          "text": [
            "Model Summary:\n"
          ]
        },
        {
          "data": {
            "text/html": [
              "<pre style=\"white-space:pre;overflow-x:auto;line-height:normal;font-family:Menlo,'DejaVu Sans Mono',consolas,'Courier New',monospace\"><span style=\"font-weight: bold\">Model: \"sequential\"</span>\n",
              "</pre>\n"
            ],
            "text/plain": [
              "\u001b[1mModel: \"sequential\"\u001b[0m\n"
            ]
          },
          "metadata": {},
          "output_type": "display_data"
        },
        {
          "data": {
            "text/html": [
              "<pre style=\"white-space:pre;overflow-x:auto;line-height:normal;font-family:Menlo,'DejaVu Sans Mono',consolas,'Courier New',monospace\">┏━━━━━━━━━━━━━━━━━━━━━━━━━━━━━━━━━┳━━━━━━━━━━━━━━━━━━━━━━━━┳━━━━━━━━━━━━━━━┓\n",
              "┃<span style=\"font-weight: bold\"> Layer (type)                    </span>┃<span style=\"font-weight: bold\"> Output Shape           </span>┃<span style=\"font-weight: bold\">       Param # </span>┃\n",
              "┡━━━━━━━━━━━━━━━━━━━━━━━━━━━━━━━━━╇━━━━━━━━━━━━━━━━━━━━━━━━╇━━━━━━━━━━━━━━━┩\n",
              "│ dense (<span style=\"color: #0087ff; text-decoration-color: #0087ff\">Dense</span>)                   │ (<span style=\"color: #00d7ff; text-decoration-color: #00d7ff\">None</span>, <span style=\"color: #00af00; text-decoration-color: #00af00\">32</span>)             │           <span style=\"color: #00af00; text-decoration-color: #00af00\">256</span> │\n",
              "├─────────────────────────────────┼────────────────────────┼───────────────┤\n",
              "│ dropout (<span style=\"color: #0087ff; text-decoration-color: #0087ff\">Dropout</span>)               │ (<span style=\"color: #00d7ff; text-decoration-color: #00d7ff\">None</span>, <span style=\"color: #00af00; text-decoration-color: #00af00\">32</span>)             │             <span style=\"color: #00af00; text-decoration-color: #00af00\">0</span> │\n",
              "├─────────────────────────────────┼────────────────────────┼───────────────┤\n",
              "│ dense_1 (<span style=\"color: #0087ff; text-decoration-color: #0087ff\">Dense</span>)                 │ (<span style=\"color: #00d7ff; text-decoration-color: #00d7ff\">None</span>, <span style=\"color: #00af00; text-decoration-color: #00af00\">16</span>)             │           <span style=\"color: #00af00; text-decoration-color: #00af00\">528</span> │\n",
              "├─────────────────────────────────┼────────────────────────┼───────────────┤\n",
              "│ dropout_1 (<span style=\"color: #0087ff; text-decoration-color: #0087ff\">Dropout</span>)             │ (<span style=\"color: #00d7ff; text-decoration-color: #00d7ff\">None</span>, <span style=\"color: #00af00; text-decoration-color: #00af00\">16</span>)             │             <span style=\"color: #00af00; text-decoration-color: #00af00\">0</span> │\n",
              "├─────────────────────────────────┼────────────────────────┼───────────────┤\n",
              "│ dense_2 (<span style=\"color: #0087ff; text-decoration-color: #0087ff\">Dense</span>)                 │ (<span style=\"color: #00d7ff; text-decoration-color: #00d7ff\">None</span>, <span style=\"color: #00af00; text-decoration-color: #00af00\">1</span>)              │            <span style=\"color: #00af00; text-decoration-color: #00af00\">17</span> │\n",
              "└─────────────────────────────────┴────────────────────────┴───────────────┘\n",
              "</pre>\n"
            ],
            "text/plain": [
              "┏━━━━━━━━━━━━━━━━━━━━━━━━━━━━━━━━━┳━━━━━━━━━━━━━━━━━━━━━━━━┳━━━━━━━━━━━━━━━┓\n",
              "┃\u001b[1m \u001b[0m\u001b[1mLayer (type)                   \u001b[0m\u001b[1m \u001b[0m┃\u001b[1m \u001b[0m\u001b[1mOutput Shape          \u001b[0m\u001b[1m \u001b[0m┃\u001b[1m \u001b[0m\u001b[1m      Param #\u001b[0m\u001b[1m \u001b[0m┃\n",
              "┡━━━━━━━━━━━━━━━━━━━━━━━━━━━━━━━━━╇━━━━━━━━━━━━━━━━━━━━━━━━╇━━━━━━━━━━━━━━━┩\n",
              "│ dense (\u001b[38;5;33mDense\u001b[0m)                   │ (\u001b[38;5;45mNone\u001b[0m, \u001b[38;5;34m32\u001b[0m)             │           \u001b[38;5;34m256\u001b[0m │\n",
              "├─────────────────────────────────┼────────────────────────┼───────────────┤\n",
              "│ dropout (\u001b[38;5;33mDropout\u001b[0m)               │ (\u001b[38;5;45mNone\u001b[0m, \u001b[38;5;34m32\u001b[0m)             │             \u001b[38;5;34m0\u001b[0m │\n",
              "├─────────────────────────────────┼────────────────────────┼───────────────┤\n",
              "│ dense_1 (\u001b[38;5;33mDense\u001b[0m)                 │ (\u001b[38;5;45mNone\u001b[0m, \u001b[38;5;34m16\u001b[0m)             │           \u001b[38;5;34m528\u001b[0m │\n",
              "├─────────────────────────────────┼────────────────────────┼───────────────┤\n",
              "│ dropout_1 (\u001b[38;5;33mDropout\u001b[0m)             │ (\u001b[38;5;45mNone\u001b[0m, \u001b[38;5;34m16\u001b[0m)             │             \u001b[38;5;34m0\u001b[0m │\n",
              "├─────────────────────────────────┼────────────────────────┼───────────────┤\n",
              "│ dense_2 (\u001b[38;5;33mDense\u001b[0m)                 │ (\u001b[38;5;45mNone\u001b[0m, \u001b[38;5;34m1\u001b[0m)              │            \u001b[38;5;34m17\u001b[0m │\n",
              "└─────────────────────────────────┴────────────────────────┴───────────────┘\n"
            ]
          },
          "metadata": {},
          "output_type": "display_data"
        },
        {
          "data": {
            "text/html": [
              "<pre style=\"white-space:pre;overflow-x:auto;line-height:normal;font-family:Menlo,'DejaVu Sans Mono',consolas,'Courier New',monospace\"><span style=\"font-weight: bold\"> Total params: </span><span style=\"color: #00af00; text-decoration-color: #00af00\">803</span> (3.14 KB)\n",
              "</pre>\n"
            ],
            "text/plain": [
              "\u001b[1m Total params: \u001b[0m\u001b[38;5;34m803\u001b[0m (3.14 KB)\n"
            ]
          },
          "metadata": {},
          "output_type": "display_data"
        },
        {
          "data": {
            "text/html": [
              "<pre style=\"white-space:pre;overflow-x:auto;line-height:normal;font-family:Menlo,'DejaVu Sans Mono',consolas,'Courier New',monospace\"><span style=\"font-weight: bold\"> Trainable params: </span><span style=\"color: #00af00; text-decoration-color: #00af00\">801</span> (3.13 KB)\n",
              "</pre>\n"
            ],
            "text/plain": [
              "\u001b[1m Trainable params: \u001b[0m\u001b[38;5;34m801\u001b[0m (3.13 KB)\n"
            ]
          },
          "metadata": {},
          "output_type": "display_data"
        },
        {
          "data": {
            "text/html": [
              "<pre style=\"white-space:pre;overflow-x:auto;line-height:normal;font-family:Menlo,'DejaVu Sans Mono',consolas,'Courier New',monospace\"><span style=\"font-weight: bold\"> Non-trainable params: </span><span style=\"color: #00af00; text-decoration-color: #00af00\">0</span> (0.00 B)\n",
              "</pre>\n"
            ],
            "text/plain": [
              "\u001b[1m Non-trainable params: \u001b[0m\u001b[38;5;34m0\u001b[0m (0.00 B)\n"
            ]
          },
          "metadata": {},
          "output_type": "display_data"
        },
        {
          "data": {
            "text/html": [
              "<pre style=\"white-space:pre;overflow-x:auto;line-height:normal;font-family:Menlo,'DejaVu Sans Mono',consolas,'Courier New',monospace\"><span style=\"font-weight: bold\"> Optimizer params: </span><span style=\"color: #00af00; text-decoration-color: #00af00\">2</span> (12.00 B)\n",
              "</pre>\n"
            ],
            "text/plain": [
              "\u001b[1m Optimizer params: \u001b[0m\u001b[38;5;34m2\u001b[0m (12.00 B)\n"
            ]
          },
          "metadata": {},
          "output_type": "display_data"
        },
        {
          "data": {
            "text/html": [
              "<div>\n",
              "<style scoped>\n",
              "    .dataframe tbody tr th:only-of-type {\n",
              "        vertical-align: middle;\n",
              "    }\n",
              "\n",
              "    .dataframe tbody tr th {\n",
              "        vertical-align: top;\n",
              "    }\n",
              "\n",
              "    .dataframe thead th {\n",
              "        text-align: right;\n",
              "    }\n",
              "</style>\n",
              "<table border=\"1\" class=\"dataframe\">\n",
              "  <thead>\n",
              "    <tr style=\"text-align: right;\">\n",
              "      <th></th>\n",
              "      <th>Date</th>\n",
              "      <th>CO(GT)</th>\n",
              "      <th>PT08.S1(CO)</th>\n",
              "      <th>NMHC(GT)</th>\n",
              "      <th>C6H6(GT)</th>\n",
              "      <th>PT08.S2(NMHC)</th>\n",
              "      <th>NOx(GT)</th>\n",
              "      <th>PT08.S3(NOx)</th>\n",
              "      <th>NO2(GT)</th>\n",
              "      <th>PT08.S4(NO2)</th>\n",
              "      <th>PT08.S5(O3)</th>\n",
              "      <th>T</th>\n",
              "      <th>RH</th>\n",
              "      <th>AH</th>\n",
              "    </tr>\n",
              "  </thead>\n",
              "  <tbody>\n",
              "    <tr>\n",
              "      <th>count</th>\n",
              "      <td>999</td>\n",
              "      <td>999.000000</td>\n",
              "      <td>999.000000</td>\n",
              "      <td>999.000000</td>\n",
              "      <td>999.000000</td>\n",
              "      <td>999.000000</td>\n",
              "      <td>999.000000</td>\n",
              "      <td>999.000000</td>\n",
              "      <td>999.000000</td>\n",
              "      <td>999.000000</td>\n",
              "      <td>999.000000</td>\n",
              "      <td>999.000000</td>\n",
              "      <td>999.000000</td>\n",
              "      <td>999.000000</td>\n",
              "    </tr>\n",
              "    <tr>\n",
              "      <th>mean</th>\n",
              "      <td>2004-09-29 15:09:32.972973056</td>\n",
              "      <td>-17.638739</td>\n",
              "      <td>1135.346430</td>\n",
              "      <td>-167.213213</td>\n",
              "      <td>9.991895</td>\n",
              "      <td>937.579997</td>\n",
              "      <td>218.771171</td>\n",
              "      <td>835.271021</td>\n",
              "      <td>93.472673</td>\n",
              "      <td>1463.869453</td>\n",
              "      <td>1029.596847</td>\n",
              "      <td>18.672047</td>\n",
              "      <td>50.212120</td>\n",
              "      <td>1.051753</td>\n",
              "    </tr>\n",
              "    <tr>\n",
              "      <th>min</th>\n",
              "      <td>2004-03-11 00:00:00</td>\n",
              "      <td>-200.000000</td>\n",
              "      <td>762.000000</td>\n",
              "      <td>-200.000000</td>\n",
              "      <td>0.710518</td>\n",
              "      <td>468.000000</td>\n",
              "      <td>-200.000000</td>\n",
              "      <td>329.750000</td>\n",
              "      <td>-200.000000</td>\n",
              "      <td>741.500000</td>\n",
              "      <td>326.000000</td>\n",
              "      <td>0.325000</td>\n",
              "      <td>9.875000</td>\n",
              "      <td>0.247748</td>\n",
              "    </tr>\n",
              "    <tr>\n",
              "      <th>25%</th>\n",
              "      <td>2004-05-17 12:00:00</td>\n",
              "      <td>0.900000</td>\n",
              "      <td>956.500000</td>\n",
              "      <td>-200.000000</td>\n",
              "      <td>4.418076</td>\n",
              "      <td>733.375000</td>\n",
              "      <td>95.000000</td>\n",
              "      <td>664.125000</td>\n",
              "      <td>78.150000</td>\n",
              "      <td>1252.625000</td>\n",
              "      <td>746.250000</td>\n",
              "      <td>13.112500</td>\n",
              "      <td>34.925000</td>\n",
              "      <td>0.829312</td>\n",
              "    </tr>\n",
              "    <tr>\n",
              "      <th>50%</th>\n",
              "      <td>2004-09-20 00:00:00</td>\n",
              "      <td>1.700000</td>\n",
              "      <td>1090.250000</td>\n",
              "      <td>-200.000000</td>\n",
              "      <td>8.272660</td>\n",
              "      <td>910.333333</td>\n",
              "      <td>172.000000</td>\n",
              "      <td>807.500000</td>\n",
              "      <td>107.000000</td>\n",
              "      <td>1466.750000</td>\n",
              "      <td>966.666667</td>\n",
              "      <td>17.100000</td>\n",
              "      <td>51.150001</td>\n",
              "      <td>1.012597</td>\n",
              "    </tr>\n",
              "    <tr>\n",
              "      <th>75%</th>\n",
              "      <td>2005-02-04 12:00:00</td>\n",
              "      <td>2.700000</td>\n",
              "      <td>1280.750000</td>\n",
              "      <td>-200.000000</td>\n",
              "      <td>13.662780</td>\n",
              "      <td>1105.625000</td>\n",
              "      <td>302.500000</td>\n",
              "      <td>974.750000</td>\n",
              "      <td>138.000000</td>\n",
              "      <td>1685.125000</td>\n",
              "      <td>1281.250000</td>\n",
              "      <td>23.875000</td>\n",
              "      <td>63.725000</td>\n",
              "      <td>1.223533</td>\n",
              "    </tr>\n",
              "    <tr>\n",
              "      <th>max</th>\n",
              "      <td>2005-04-04 00:00:00</td>\n",
              "      <td>9.400000</td>\n",
              "      <td>2039.750000</td>\n",
              "      <td>685.000000</td>\n",
              "      <td>43.943154</td>\n",
              "      <td>1851.000000</td>\n",
              "      <td>1247.000000</td>\n",
              "      <td>2095.250000</td>\n",
              "      <td>310.100000</td>\n",
              "      <td>2679.000000</td>\n",
              "      <td>2358.500000</td>\n",
              "      <td>40.900001</td>\n",
              "      <td>88.725000</td>\n",
              "      <td>2.066996</td>\n",
              "    </tr>\n",
              "    <tr>\n",
              "      <th>std</th>\n",
              "      <td>NaN</td>\n",
              "      <td>60.189143</td>\n",
              "      <td>229.710821</td>\n",
              "      <td>120.131022</td>\n",
              "      <td>7.311126</td>\n",
              "      <td>260.558397</td>\n",
              "      <td>225.718737</td>\n",
              "      <td>267.222901</td>\n",
              "      <td>88.312492</td>\n",
              "      <td>341.521758</td>\n",
              "      <td>380.201224</td>\n",
              "      <td>7.809003</td>\n",
              "      <td>18.256333</td>\n",
              "      <td>0.389671</td>\n",
              "    </tr>\n",
              "  </tbody>\n",
              "</table>\n",
              "</div>"
            ],
            "text/plain": [
              "                                Date      CO(GT)  PT08.S1(CO)    NMHC(GT)  \\\n",
              "count                            999  999.000000   999.000000  999.000000   \n",
              "mean   2004-09-29 15:09:32.972973056  -17.638739  1135.346430 -167.213213   \n",
              "min              2004-03-11 00:00:00 -200.000000   762.000000 -200.000000   \n",
              "25%              2004-05-17 12:00:00    0.900000   956.500000 -200.000000   \n",
              "50%              2004-09-20 00:00:00    1.700000  1090.250000 -200.000000   \n",
              "75%              2005-02-04 12:00:00    2.700000  1280.750000 -200.000000   \n",
              "max              2005-04-04 00:00:00    9.400000  2039.750000  685.000000   \n",
              "std                              NaN   60.189143   229.710821  120.131022   \n",
              "\n",
              "         C6H6(GT)  PT08.S2(NMHC)      NOx(GT)  PT08.S3(NOx)     NO2(GT)  \\\n",
              "count  999.000000     999.000000   999.000000    999.000000  999.000000   \n",
              "mean     9.991895     937.579997   218.771171    835.271021   93.472673   \n",
              "min      0.710518     468.000000  -200.000000    329.750000 -200.000000   \n",
              "25%      4.418076     733.375000    95.000000    664.125000   78.150000   \n",
              "50%      8.272660     910.333333   172.000000    807.500000  107.000000   \n",
              "75%     13.662780    1105.625000   302.500000    974.750000  138.000000   \n",
              "max     43.943154    1851.000000  1247.000000   2095.250000  310.100000   \n",
              "std      7.311126     260.558397   225.718737    267.222901   88.312492   \n",
              "\n",
              "       PT08.S4(NO2)  PT08.S5(O3)           T          RH          AH  \n",
              "count    999.000000   999.000000  999.000000  999.000000  999.000000  \n",
              "mean    1463.869453  1029.596847   18.672047   50.212120    1.051753  \n",
              "min      741.500000   326.000000    0.325000    9.875000    0.247748  \n",
              "25%     1252.625000   746.250000   13.112500   34.925000    0.829312  \n",
              "50%     1466.750000   966.666667   17.100000   51.150001    1.012597  \n",
              "75%     1685.125000  1281.250000   23.875000   63.725000    1.223533  \n",
              "max     2679.000000  2358.500000   40.900001   88.725000    2.066996  \n",
              "std      341.521758   380.201224    7.809003   18.256333    0.389671  "
            ]
          },
          "execution_count": 13,
          "metadata": {},
          "output_type": "execute_result"
        }
      ],
      "source": [
        "import pandas as pd\n",
        "import numpy as np\n",
        "import matplotlib.pyplot as plt\n",
        "import seaborn as sns\n",
        "from tensorflow.keras.models import Sequential\n",
        "from tensorflow.keras.layers import Dense, Dropout\n",
        "from tensorflow.keras.optimizers import Adam\n",
        "from sklearn.model_selection import train_test_split\n",
        "from sklearn.preprocessing import StandardScaler\n",
        "from sklearn.metrics import confusion_matrix, accuracy_score, precision_score, mean_squared_error, mean_absolute_error\n",
        "import keras as k\n",
        "import matplotlib.pyplot as plt\n",
        "import seaborn as sns\n",
        "import tensorflow as tf\n",
        "import sklearn as sk\n",
        "\n",
        "\n",
        "# Load the classification model\n",
        "classification_model = tf.keras.models.load_model('model_classification.h5')\n",
        "\n",
        "# print model summary\n",
        "print(\"Model Summary:\")\n",
        "classification_model.summary()\n",
        "\n",
        "\n",
        "# read the testing datrQuaa\n",
        "excel_file_path = \"diff.xlsx\"\n",
        "data = pd.read_excel(excel_file_path)\n",
        "\n",
        "data.describe()"
      ]
    },
    {
      "cell_type": "markdown",
      "metadata": {},
      "source": [
        "### Classification data preprocessing"
      ]
    },
    {
      "cell_type": "code",
      "execution_count": 14,
      "metadata": {},
      "outputs": [
        {
          "name": "stdout",
          "output_type": "stream",
          "text": [
            "co threshold: 2.0337337337337336\n",
            "Features with the lowest 5 correlation values relative to CO(GT): ['RH', 'T', 'AH', 'NMHC(GT)', 'PT08.S3(NOx)']\n"
          ]
        },
        {
          "data": {
            "text/plain": [
              "((999, 7), (999,))"
            ]
          },
          "execution_count": 14,
          "metadata": {},
          "output_type": "execute_result"
        }
      ],
      "source": [
        "# Replace -200 values with NaN for further processing\n",
        "\n",
        "linear_interpolate_data = data.replace(-200, np.nan)\n",
        "columns_missing = linear_interpolate_data.columns[2:]\n",
        "linear_interpolate_data[columns_missing] = linear_interpolate_data[columns_missing].interpolate(method='linear')\n",
        "\n",
        "# calculate the mean value\n",
        "co_gt_threshold = linear_interpolate_data['CO(GT)'].mean()\n",
        "print(f\"co threshold: {co_gt_threshold}\")\n",
        "\n",
        "linear_interpolate_data['CO_Target'] = (linear_interpolate_data['CO(GT)'] > co_gt_threshold).astype(int)\n",
        "\n",
        "# ignore date, time and target column\n",
        "correlation_matrix = linear_interpolate_data[linear_interpolate_data.columns[2:-1]].corr()\n",
        "\n",
        "# ignore matrix based on correlation matrix\n",
        "low_correlation_features = correlation_matrix['CO(GT)'].abs().sort_values().head(5).index.tolist()\n",
        "print(\"Features with the lowest 5 correlation values relative to CO(GT):\", low_correlation_features)\n",
        "\n",
        "\n",
        "# feature selection\n",
        "delete_column = [\"CO(GT)\", \"Date\", \"Time\", \"CO_Target\"]\n",
        "\n",
        "delete_column.extend(low_correlation_features)\n",
        "delete_column = list(set(delete_column))\n",
        "\n",
        "x_value = linear_interpolate_data.drop(columns=delete_column)\n",
        "y_value = linear_interpolate_data['CO_Target']\n",
        "\n",
        "scaler = StandardScaler()\n",
        "x_value = scaler.fit_transform(x_value)\n",
        "\n",
        "\n",
        "x_value.shape, y_value.shape"
      ]
    },
    {
      "cell_type": "markdown",
      "metadata": {
        "id": "nL8sJ_JuauIW"
      },
      "source": [
        "## Predict result"
      ]
    },
    {
      "cell_type": "code",
      "execution_count": 15,
      "metadata": {
        "colab": {
          "base_uri": "https://localhost:8080/",
          "height": 748
        },
        "id": "5knGi-ngcrux",
        "outputId": "58574757-be8d-4bbc-8ae4-4354cd92dea7"
      },
      "outputs": [
        {
          "name": "stdout",
          "output_type": "stream",
          "text": [
            "\u001b[1m32/32\u001b[0m \u001b[32m━━━━━━━━━━━━━━━━━━━━\u001b[0m\u001b[37m\u001b[0m \u001b[1m0s\u001b[0m 1ms/step \n",
            "\n",
            "Confusion Matrix:\n",
            "                   Positive (Predicted)     Negative (Predicted)\n",
            "Positive (Actual)     346                         33                          \n",
            "Negative (Actual)     46                          574                         \n",
            "\n",
            "                              Accuracy       Precision      Number of Samples\n",
            "CO(GT) classification          92.09%          91.29%            999\n"
          ]
        }
      ],
      "source": [
        "import pandas as pd\n",
        "import numpy as np\n",
        "import matplotlib.pyplot as plt\n",
        "import seaborn as sns\n",
        "from tensorflow.keras.models import Sequential\n",
        "from tensorflow.keras.layers import Dense, Dropout\n",
        "from tensorflow.keras.optimizers import Adam\n",
        "from sklearn.model_selection import train_test_split\n",
        "from sklearn.preprocessing import StandardScaler\n",
        "from sklearn.metrics import confusion_matrix, accuracy_score, precision_score, mean_squared_error, mean_absolute_error\n",
        "\n",
        "\n",
        "# Prediction test set\n",
        "y_pred = (classification_model.predict(x_value)>0.5).astype(int)\n",
        "\n",
        "# get the confusion matrix\n",
        "cm = confusion_matrix(y_value, y_pred)\n",
        "\n",
        "tn, fp, fn, tp = cm.ravel()\n",
        "\n",
        "accuracy = accuracy_score(y_value, y_pred)\n",
        "precision = precision_score(y_value, y_pred)\n",
        "\n",
        "\n",
        "print(\"\")\n",
        "print(\"Confusion Matrix:\")\n",
        "print(\"                   Positive (Predicted)     Negative (Predicted)\")\n",
        "print(f\"Positive (Actual)     {tp:<28}{fp:<28}\")\n",
        "print(f\"Negative (Actual)     {fn:<28}{tn:<28}\")\n",
        "print(\"\")\n",
        "print(f\"{'':<30}{'Accuracy':<15}{'Precision':<15}{'Number of Samples'}\")\n",
        "print(f\"CO(GT) classification{'':<10}{accuracy:.2%}{'':<10}{precision:.2%}{'':<12}{len(y_value)}\")"
      ]
    },
    {
      "cell_type": "markdown",
      "metadata": {
        "id": "7W57vI7SmhhD"
      },
      "source": []
    },
    {
      "cell_type": "markdown",
      "metadata": {
        "id": "dh3h4yoDmiVX"
      },
      "source": [
        "# Regression_Model"
      ]
    },
    {
      "cell_type": "markdown",
      "metadata": {
        "id": "oK-VcBKla2jo"
      },
      "source": [
        "## Load Model and Data Processing"
      ]
    },
    {
      "cell_type": "code",
      "execution_count": 16,
      "metadata": {
        "colab": {
          "base_uri": "https://localhost:8080/"
        },
        "id": "7fYADVgUmk-x",
        "outputId": "51206f4a-ac97-43fe-abbf-320b86c83dcd"
      },
      "outputs": [
        {
          "name": "stderr",
          "output_type": "stream",
          "text": [
            "WARNING:absl:Compiled the loaded model, but the compiled metrics have yet to be built. `model.compile_metrics` will be empty until you train or evaluate the model.\n"
          ]
        },
        {
          "name": "stdout",
          "output_type": "stream",
          "text": [
            "Model Summary:\n"
          ]
        },
        {
          "data": {
            "text/html": [
              "<pre style=\"white-space:pre;overflow-x:auto;line-height:normal;font-family:Menlo,'DejaVu Sans Mono',consolas,'Courier New',monospace\"><span style=\"font-weight: bold\">Model: \"sequential_1\"</span>\n",
              "</pre>\n"
            ],
            "text/plain": [
              "\u001b[1mModel: \"sequential_1\"\u001b[0m\n"
            ]
          },
          "metadata": {},
          "output_type": "display_data"
        },
        {
          "data": {
            "text/html": [
              "<pre style=\"white-space:pre;overflow-x:auto;line-height:normal;font-family:Menlo,'DejaVu Sans Mono',consolas,'Courier New',monospace\">┏━━━━━━━━━━━━━━━━━━━━━━━━━━━━━━━━━┳━━━━━━━━━━━━━━━━━━━━━━━━┳━━━━━━━━━━━━━━━┓\n",
              "┃<span style=\"font-weight: bold\"> Layer (type)                    </span>┃<span style=\"font-weight: bold\"> Output Shape           </span>┃<span style=\"font-weight: bold\">       Param # </span>┃\n",
              "┡━━━━━━━━━━━━━━━━━━━━━━━━━━━━━━━━━╇━━━━━━━━━━━━━━━━━━━━━━━━╇━━━━━━━━━━━━━━━┩\n",
              "│ dense_3 (<span style=\"color: #0087ff; text-decoration-color: #0087ff\">Dense</span>)                 │ (<span style=\"color: #00d7ff; text-decoration-color: #00d7ff\">None</span>, <span style=\"color: #00af00; text-decoration-color: #00af00\">32</span>)             │           <span style=\"color: #00af00; text-decoration-color: #00af00\">256</span> │\n",
              "├─────────────────────────────────┼────────────────────────┼───────────────┤\n",
              "│ dropout_2 (<span style=\"color: #0087ff; text-decoration-color: #0087ff\">Dropout</span>)             │ (<span style=\"color: #00d7ff; text-decoration-color: #00d7ff\">None</span>, <span style=\"color: #00af00; text-decoration-color: #00af00\">32</span>)             │             <span style=\"color: #00af00; text-decoration-color: #00af00\">0</span> │\n",
              "├─────────────────────────────────┼────────────────────────┼───────────────┤\n",
              "│ dense_4 (<span style=\"color: #0087ff; text-decoration-color: #0087ff\">Dense</span>)                 │ (<span style=\"color: #00d7ff; text-decoration-color: #00d7ff\">None</span>, <span style=\"color: #00af00; text-decoration-color: #00af00\">16</span>)             │           <span style=\"color: #00af00; text-decoration-color: #00af00\">528</span> │\n",
              "├─────────────────────────────────┼────────────────────────┼───────────────┤\n",
              "│ dropout_3 (<span style=\"color: #0087ff; text-decoration-color: #0087ff\">Dropout</span>)             │ (<span style=\"color: #00d7ff; text-decoration-color: #00d7ff\">None</span>, <span style=\"color: #00af00; text-decoration-color: #00af00\">16</span>)             │             <span style=\"color: #00af00; text-decoration-color: #00af00\">0</span> │\n",
              "├─────────────────────────────────┼────────────────────────┼───────────────┤\n",
              "│ dense_5 (<span style=\"color: #0087ff; text-decoration-color: #0087ff\">Dense</span>)                 │ (<span style=\"color: #00d7ff; text-decoration-color: #00d7ff\">None</span>, <span style=\"color: #00af00; text-decoration-color: #00af00\">1</span>)              │            <span style=\"color: #00af00; text-decoration-color: #00af00\">17</span> │\n",
              "└─────────────────────────────────┴────────────────────────┴───────────────┘\n",
              "</pre>\n"
            ],
            "text/plain": [
              "┏━━━━━━━━━━━━━━━━━━━━━━━━━━━━━━━━━┳━━━━━━━━━━━━━━━━━━━━━━━━┳━━━━━━━━━━━━━━━┓\n",
              "┃\u001b[1m \u001b[0m\u001b[1mLayer (type)                   \u001b[0m\u001b[1m \u001b[0m┃\u001b[1m \u001b[0m\u001b[1mOutput Shape          \u001b[0m\u001b[1m \u001b[0m┃\u001b[1m \u001b[0m\u001b[1m      Param #\u001b[0m\u001b[1m \u001b[0m┃\n",
              "┡━━━━━━━━━━━━━━━━━━━━━━━━━━━━━━━━━╇━━━━━━━━━━━━━━━━━━━━━━━━╇━━━━━━━━━━━━━━━┩\n",
              "│ dense_3 (\u001b[38;5;33mDense\u001b[0m)                 │ (\u001b[38;5;45mNone\u001b[0m, \u001b[38;5;34m32\u001b[0m)             │           \u001b[38;5;34m256\u001b[0m │\n",
              "├─────────────────────────────────┼────────────────────────┼───────────────┤\n",
              "│ dropout_2 (\u001b[38;5;33mDropout\u001b[0m)             │ (\u001b[38;5;45mNone\u001b[0m, \u001b[38;5;34m32\u001b[0m)             │             \u001b[38;5;34m0\u001b[0m │\n",
              "├─────────────────────────────────┼────────────────────────┼───────────────┤\n",
              "│ dense_4 (\u001b[38;5;33mDense\u001b[0m)                 │ (\u001b[38;5;45mNone\u001b[0m, \u001b[38;5;34m16\u001b[0m)             │           \u001b[38;5;34m528\u001b[0m │\n",
              "├─────────────────────────────────┼────────────────────────┼───────────────┤\n",
              "│ dropout_3 (\u001b[38;5;33mDropout\u001b[0m)             │ (\u001b[38;5;45mNone\u001b[0m, \u001b[38;5;34m16\u001b[0m)             │             \u001b[38;5;34m0\u001b[0m │\n",
              "├─────────────────────────────────┼────────────────────────┼───────────────┤\n",
              "│ dense_5 (\u001b[38;5;33mDense\u001b[0m)                 │ (\u001b[38;5;45mNone\u001b[0m, \u001b[38;5;34m1\u001b[0m)              │            \u001b[38;5;34m17\u001b[0m │\n",
              "└─────────────────────────────────┴────────────────────────┴───────────────┘\n"
            ]
          },
          "metadata": {},
          "output_type": "display_data"
        },
        {
          "data": {
            "text/html": [
              "<pre style=\"white-space:pre;overflow-x:auto;line-height:normal;font-family:Menlo,'DejaVu Sans Mono',consolas,'Courier New',monospace\"><span style=\"font-weight: bold\"> Total params: </span><span style=\"color: #00af00; text-decoration-color: #00af00\">803</span> (3.14 KB)\n",
              "</pre>\n"
            ],
            "text/plain": [
              "\u001b[1m Total params: \u001b[0m\u001b[38;5;34m803\u001b[0m (3.14 KB)\n"
            ]
          },
          "metadata": {},
          "output_type": "display_data"
        },
        {
          "data": {
            "text/html": [
              "<pre style=\"white-space:pre;overflow-x:auto;line-height:normal;font-family:Menlo,'DejaVu Sans Mono',consolas,'Courier New',monospace\"><span style=\"font-weight: bold\"> Trainable params: </span><span style=\"color: #00af00; text-decoration-color: #00af00\">801</span> (3.13 KB)\n",
              "</pre>\n"
            ],
            "text/plain": [
              "\u001b[1m Trainable params: \u001b[0m\u001b[38;5;34m801\u001b[0m (3.13 KB)\n"
            ]
          },
          "metadata": {},
          "output_type": "display_data"
        },
        {
          "data": {
            "text/html": [
              "<pre style=\"white-space:pre;overflow-x:auto;line-height:normal;font-family:Menlo,'DejaVu Sans Mono',consolas,'Courier New',monospace\"><span style=\"font-weight: bold\"> Non-trainable params: </span><span style=\"color: #00af00; text-decoration-color: #00af00\">0</span> (0.00 B)\n",
              "</pre>\n"
            ],
            "text/plain": [
              "\u001b[1m Non-trainable params: \u001b[0m\u001b[38;5;34m0\u001b[0m (0.00 B)\n"
            ]
          },
          "metadata": {},
          "output_type": "display_data"
        },
        {
          "data": {
            "text/html": [
              "<pre style=\"white-space:pre;overflow-x:auto;line-height:normal;font-family:Menlo,'DejaVu Sans Mono',consolas,'Courier New',monospace\"><span style=\"font-weight: bold\"> Optimizer params: </span><span style=\"color: #00af00; text-decoration-color: #00af00\">2</span> (12.00 B)\n",
              "</pre>\n"
            ],
            "text/plain": [
              "\u001b[1m Optimizer params: \u001b[0m\u001b[38;5;34m2\u001b[0m (12.00 B)\n"
            ]
          },
          "metadata": {},
          "output_type": "display_data"
        }
      ],
      "source": [
        "import pandas as pd\n",
        "import numpy as np\n",
        "import matplotlib.pyplot as plt\n",
        "import seaborn as sns\n",
        "from tensorflow.keras.models import Sequential\n",
        "from tensorflow.keras.layers import Dense, Dropout\n",
        "from tensorflow.keras.optimizers import Adam\n",
        "from sklearn.model_selection import train_test_split\n",
        "from sklearn.preprocessing import StandardScaler\n",
        "from sklearn.metrics import confusion_matrix, accuracy_score, precision_score, mean_squared_error, mean_absolute_error\n",
        "import keras as k\n",
        "import matplotlib.pyplot as plt\n",
        "import seaborn as sns\n",
        "import tensorflow as tf\n",
        "import sklearn as sk\n",
        "\n",
        "\n",
        "# Load the trained model\n",
        "regression_model = tf.keras.models.load_model('model_regression.h5')\n",
        "\n",
        "# print model summary\n",
        "print(\"Model Summary:\")\n",
        "regression_model.summary()\n",
        "\n"
      ]
    },
    {
      "cell_type": "markdown",
      "metadata": {},
      "source": [
        "### Regression data preprocessing"
      ]
    },
    {
      "cell_type": "code",
      "execution_count": 17,
      "metadata": {},
      "outputs": [
        {
          "name": "stdout",
          "output_type": "stream",
          "text": [
            "Features with the lowest 5 correlation values relative to NOx(GT): ['NMHC(GT)', 'AH', 'T', 'RH', 'PT08.S4(NO2)']\n"
          ]
        },
        {
          "data": {
            "text/plain": [
              "(999, 7)"
            ]
          },
          "execution_count": 17,
          "metadata": {},
          "output_type": "execute_result"
        }
      ],
      "source": [
        "\n",
        "correlation_matrix = linear_interpolate_data[linear_interpolate_data.columns[2:-1]].corr()\n",
        "# ignore matrix based on correlation matrix\n",
        "low_correlation_features = correlation_matrix['NOx(GT)'].abs().sort_values().head(5).index.tolist()\n",
        "print(\"Features with the lowest 5 correlation values relative to NOx(GT):\", low_correlation_features)\n",
        "\n",
        "delete_column = [\"NOx(GT)\", \"Date\", \"Time\", \"CO_Target\"]\n",
        "\n",
        "delete_column.extend(low_correlation_features)\n",
        "\n",
        "delete_column = list(set(delete_column))\n",
        "\n",
        "x_value = linear_interpolate_data.drop(columns=delete_column)\n",
        "y_value = linear_interpolate_data['NOx(GT)']\n",
        "\n",
        "scaler = StandardScaler()\n",
        "x_value = scaler.fit_transform(x_value)\n",
        "\n",
        "x_value.shape"
      ]
    },
    {
      "cell_type": "markdown",
      "metadata": {
        "id": "rl914KFLbCe5"
      },
      "source": [
        "## Predict result"
      ]
    },
    {
      "cell_type": "code",
      "execution_count": 18,
      "metadata": {
        "id": "Jy7qZQmVbB5K"
      },
      "outputs": [
        {
          "name": "stdout",
          "output_type": "stream",
          "text": [
            "\u001b[1m32/32\u001b[0m \u001b[32m━━━━━━━━━━━━━━━━━━━━\u001b[0m\u001b[37m\u001b[0m \u001b[1m0s\u001b[0m 1ms/step \n",
            "Root Mean Squared Error (RMSE): 111.77102728302995\n",
            "Mean Absolute Error (MAE): 65.06598826475586\n",
            "Number of Samples: 999\n"
          ]
        }
      ],
      "source": [
        "# Calculate performance metrics\n",
        "y_pred = regression_model.predict(x_value)\n",
        "\n",
        "rmse = np.sqrt(mean_squared_error(y_value, y_pred))\n",
        "mae = mean_absolute_error(y_value, y_pred)\n",
        "\n",
        "print(f\"Root Mean Squared Error (RMSE): {rmse}\")\n",
        "print(f\"Mean Absolute Error (MAE): {mae}\")\n",
        "print(f\"Number of Samples: {len(y_value)}\")"
      ]
    }
  ],
  "metadata": {
    "colab": {
      "collapsed_sections": [
        "dh3h4yoDmiVX"
      ],
      "provenance": [],
      "toc_visible": true
    },
    "kernelspec": {
      "display_name": "Python 3",
      "name": "python3"
    },
    "language_info": {
      "codemirror_mode": {
        "name": "ipython",
        "version": 3
      },
      "file_extension": ".py",
      "mimetype": "text/x-python",
      "name": "python",
      "nbconvert_exporter": "python",
      "pygments_lexer": "ipython3",
      "version": "3.10.11"
    }
  },
  "nbformat": 4,
  "nbformat_minor": 0
}
